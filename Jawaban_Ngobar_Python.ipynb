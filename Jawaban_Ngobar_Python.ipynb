{
  "nbformat": 4,
  "nbformat_minor": 0,
  "metadata": {
    "colab": {
      "provenance": [],
      "toc_visible": true,
      "authorship_tag": "ABX9TyPMyXKPoIYhPSS1gIfaNuwk",
      "include_colab_link": true
    },
    "kernelspec": {
      "name": "python3",
      "display_name": "Python 3"
    },
    "language_info": {
      "name": "python"
    }
  },
  "cells": [
    {
      "cell_type": "markdown",
      "metadata": {
        "id": "view-in-github",
        "colab_type": "text"
      },
      "source": [
        "<a href=\"https://colab.research.google.com/github/anrlatif/Ngobar_python/blob/main/Jawaban_Ngobar_Python.ipynb\" target=\"_parent\"><img src=\"https://colab.research.google.com/assets/colab-badge.svg\" alt=\"Open In Colab\"/></a>"
      ]
    },
    {
      "cell_type": "markdown",
      "source": [
        "### **Pertemuan 1**"
      ],
      "metadata": {
        "id": "nY8wjSiWKima"
      }
    },
    {
      "cell_type": "markdown",
      "source": [
        "Soal 1"
      ],
      "metadata": {
        "id": "oo8ygkhx5ueo"
      }
    },
    {
      "cell_type": "code",
      "source": [
        "# Input dua angka dari pengguna\n",
        "angka1 = int(input(\"Masukkan angka pertama: \"))\n",
        "angka2 = int(input(\"Masukkan angka kedua: \"))\n",
        "\n",
        "# Input operator aritmatika dari pengguna\n",
        "operator = input(\"Masukkan operator (+, -, *, /): \")\n",
        "\n",
        "# Hitung hasil operasi berdasarkan operator\n",
        "if operator == \"+\":\n",
        "  hasil = angka1 + angka2\n",
        "  print(f\"{angka1} + {angka2} = {hasil}\")\n",
        "elif operator == \"-\":\n",
        "  hasil = angka1 - angka2\n",
        "  print(f\"{angka1} - {angka2} = {hasil}\")\n",
        "elif operator == \"*\":\n",
        "  hasil = angka1 * angka2\n",
        "  print(f\"{angka1} * {angka2} = {hasil}\")\n",
        "elif operator == \"/\":\n",
        "  if angka2 == 0:\n",
        "    print(\"Error: Pembagian dengan nol\")\n",
        "  else:\n",
        "    hasil = angka1 / angka2\n",
        "    print(f\"{angka1} / {angka2} = {hasil}\")\n",
        "else:\n",
        "  print(\"Error: Operator tidak valid\")"
      ],
      "metadata": {
        "id": "aZMWLzr45x12"
      },
      "execution_count": null,
      "outputs": []
    },
    {
      "cell_type": "markdown",
      "source": [
        "Soal 2"
      ],
      "metadata": {
        "id": "V1SjKjcM52Cg"
      }
    },
    {
      "cell_type": "code",
      "source": [
        "batas = int(input(\"Masukkan batas deret Fibonacci: \"))\n",
        "\n",
        "fibonacci1, fibonacci2 = 0, 1\n",
        "\n",
        "if batas <= 0:\n",
        "    print(\"Masukkan batas yang lebih besar dari 0.\")\n",
        "elif batas == 1:\n",
        "    print(fibonacci1)\n",
        "else:\n",
        "    print(fibonacci1, end=\" \")\n",
        "    print(fibonacci2, end=\" \")\n",
        "    for i in range(2, batas):\n",
        "        hasil_fibonacci = fibonacci1 + fibonacci2\n",
        "        if hasil_fibonacci > batas:\n",
        "          break\n",
        "        print(hasil_fibonacci, end=\" \")\n",
        "        fibonacci1 = fibonacci2\n",
        "        fibonacci2 = hasil_fibonacci"
      ],
      "metadata": {
        "colab": {
          "base_uri": "https://localhost:8080/"
        },
        "id": "MksYRQCA5681",
        "outputId": "f4b73488-a5be-432e-941a-e1d71495c3ec"
      },
      "execution_count": null,
      "outputs": [
        {
          "output_type": "stream",
          "name": "stdout",
          "text": [
            "Masukkan batas deret Fibonacci: 34\n",
            "0 1 1 2 3 5 8 13 21 34 "
          ]
        }
      ]
    },
    {
      "cell_type": "markdown",
      "source": [
        "Soal 3"
      ],
      "metadata": {
        "id": "uzQAdmAC58Ey"
      }
    },
    {
      "cell_type": "code",
      "source": [
        "angka_list = list(map(int, input(\"Masukkan angka: \").split()))\n",
        "\n",
        "nilai_maksimum = max(angka_list)\n",
        "nilai_minimum = min(angka_list)\n",
        "\n",
        "print(\"Nilai maksimum: \" ,nilai_maksimum)\n",
        "print(\"Nilai minimum: \" ,nilai_minimum)"
      ],
      "metadata": {
        "colab": {
          "base_uri": "https://localhost:8080/"
        },
        "id": "sKj9Bbu659oE",
        "outputId": "038882a4-7ec9-4643-8903-5f82076ca200"
      },
      "execution_count": null,
      "outputs": [
        {
          "output_type": "stream",
          "name": "stdout",
          "text": [
            "Masukkan angka: 1 5 56 87 9\n",
            "Nilai maksimum:  87\n",
            "Nilai minimum:  1\n"
          ]
        }
      ]
    },
    {
      "cell_type": "markdown",
      "source": [
        "### **Pertemuan 2**"
      ],
      "metadata": {
        "id": "2bYIdCkiTZm1"
      }
    },
    {
      "cell_type": "markdown",
      "source": [
        "Soal 1"
      ],
      "metadata": {
        "id": "BXXWS5u5Tpid"
      }
    },
    {
      "cell_type": "code",
      "source": [
        "def perkalian(angka1, angka2):\n",
        "  return angka1 * angka2\n",
        "\n",
        "\n",
        "hasil1 = perkalian(5, 7)\n",
        "hasil2 = perkalian(8, 9)\n",
        "\n",
        "print(f\"Hasil perkalian 5 dan 7 adalah: {hasil1}\")\n",
        "print(f\"Hasil perkalian 8 dan 9 adalah: {hasil2}\")\n"
      ],
      "metadata": {
        "colab": {
          "base_uri": "https://localhost:8080/"
        },
        "id": "bwX3GoncTtNJ",
        "outputId": "4ef13f80-0485-40c8-8e31-2cb63c4d2286"
      },
      "execution_count": null,
      "outputs": [
        {
          "output_type": "stream",
          "name": "stdout",
          "text": [
            "Hasil perkalian 5 dan 7 adalah: 35\n",
            "Hasil perkalian 8 dan 9 adalah: 72\n"
          ]
        }
      ]
    },
    {
      "cell_type": "markdown",
      "source": [
        "Soal 2"
      ],
      "metadata": {
        "id": "rEXojkKZWvdg"
      }
    },
    {
      "cell_type": "code",
      "source": [
        "\n",
        "def dekorator_fungsi(func):\n",
        "    def wrapper(nama):\n",
        "        print(\"Fungsi telah dipanggil\")\n",
        "        func(nama)  # Menjalankan fungsi asli\n",
        "        print(\"Fungsi Berhasil dijalankan\")\n",
        "    return wrapper\n",
        "\n",
        "@dekorator_fungsi\n",
        "def tampilkan_nama(nama):\n",
        "  print(f\"Nama saya adalah: {nama}\")\n",
        "\n",
        "tampilkan_nama(\"Latif\")"
      ],
      "metadata": {
        "colab": {
          "base_uri": "https://localhost:8080/"
        },
        "id": "OtyLeiAZWxd-",
        "outputId": "82da649b-b113-4a12-c6ad-066e93411325"
      },
      "execution_count": null,
      "outputs": [
        {
          "output_type": "stream",
          "name": "stdout",
          "text": [
            "Fungsi telah dipanggil\n",
            "Nama saya adalah: Latif\n",
            "Fungsi Berhasil dijalankan\n"
          ]
        }
      ]
    },
    {
      "cell_type": "markdown",
      "source": [
        "Soal 3"
      ],
      "metadata": {
        "id": "QAPDELMOeVhj"
      }
    },
    {
      "cell_type": "code",
      "source": [
        "def hitung_luas_persegi_panjang(panjang, lebar=10):\n",
        "  return panjang * lebar\n",
        "\n",
        "# Memanggil fungsi dengan hanya memberikan parameter panjang\n",
        "luas1 = hitung_luas_persegi_panjang(6)\n",
        "print(f\"Luas persegi panjang : {luas1}\")\n",
        "\n",
        "# Memanggil fungsi dengan memberikan kedua parameter\n",
        "luas2 = hitung_luas_persegi_panjang(5, 12)\n",
        "print(f\"Luas persegi panjang : {luas2}\")"
      ],
      "metadata": {
        "colab": {
          "base_uri": "https://localhost:8080/"
        },
        "id": "rggyscfkeWtl",
        "outputId": "29a66034-b0a5-4108-f438-f9537568e639"
      },
      "execution_count": null,
      "outputs": [
        {
          "output_type": "stream",
          "name": "stdout",
          "text": [
            "Luas persegi panjang : 60\n",
            "Luas persegi panjang : 60\n"
          ]
        }
      ]
    },
    {
      "cell_type": "markdown",
      "source": [
        "### **Pertemuan 3**"
      ],
      "metadata": {
        "id": "1uaVAUlbVZqC"
      }
    },
    {
      "cell_type": "markdown",
      "source": [
        "Soal 1"
      ],
      "metadata": {
        "id": "KPiAcxMvWGjm"
      }
    },
    {
      "cell_type": "code",
      "source": [
        "sliceing_string=\"Hari Ini Adalah Hari Ketiga Saya Mengikuti Kegiatan Ngobar\"\n",
        "print(sliceing_string)\n",
        "\n",
        "# Contoh slicing\n",
        "print(sliceing_string[:6])   # Mengambil karakter pertama hingga ke-6\n",
        "print(sliceing_string[-5:]) # Mengambil 5 karakter terakhir dari string\n",
        "print(sliceing_string[21:27]) # Menampilkan kata \"ketiga\" dari string\n",
        "\n",
        "def balik_kata(teks):\n",
        "  kata = teks.split()\n",
        "  kata_terbalik = kata[::-1]\n",
        "  return \" \".join(kata_terbalik)\n",
        "\n",
        "print(balik_kata(sliceing_string))"
      ],
      "metadata": {
        "colab": {
          "base_uri": "https://localhost:8080/"
        },
        "id": "D3jDAbDJVbaN",
        "outputId": "ba380d27-9ba2-4de4-921d-9bf826016a2c"
      },
      "execution_count": null,
      "outputs": [
        {
          "output_type": "stream",
          "name": "stdout",
          "text": [
            "Hari Ini Adalah Hari Ketiga Saya Mengikuti Kegiatan Ngobar\n",
            "Hari I\n",
            "gobar\n",
            "Ketiga\n",
            "Ngobar Kegiatan Mengikuti Saya Ketiga Hari Adalah Ini Hari\n"
          ]
        }
      ]
    },
    {
      "cell_type": "markdown",
      "source": [
        "Soal 2"
      ],
      "metadata": {
        "id": "8OkbUFpeXUhD"
      }
    },
    {
      "cell_type": "code",
      "source": [
        "# Variabel string\n",
        "kalimat1 = \"Halo,\"\n",
        "kalimat2 = \"Nama Saya\"\n",
        "kalimat3 = \"Latif!\"\n",
        "\n",
        "# Gabungkan ketiga variabel menggunakan operator +\n",
        "gabungan_plus = kalimat1 + \" \" + kalimat2 + \" \" + kalimat3\n",
        "print(gabungan_plus)\n",
        "\n",
        "# Gabungkan ketiga variabel menggunakan f-string\n",
        "gabungan_fstring = f\"{kalimat1} {kalimat2} {kalimat3}\"\n",
        "print(gabungan_fstring)\n",
        "\n",
        "# Gabungkan ketiga variabel menggunakan method .join()\n",
        "daftar_kalimat = [kalimat1, kalimat2, kalimat3]\n",
        "gabungan_join = \" \".join(daftar_kalimat)\n",
        "print(gabungan_join)"
      ],
      "metadata": {
        "colab": {
          "base_uri": "https://localhost:8080/"
        },
        "id": "YByb3PfhXVzS",
        "outputId": "d52af119-ac59-4adf-c2d7-43407b89412c"
      },
      "execution_count": null,
      "outputs": [
        {
          "output_type": "stream",
          "name": "stdout",
          "text": [
            "Halo, Nama Saya Latif!\n",
            "Halo, Nama Saya Latif!\n",
            "Halo, Nama Saya Latif!\n"
          ]
        }
      ]
    },
    {
      "cell_type": "markdown",
      "source": [
        "Soal 3"
      ],
      "metadata": {
        "id": "Crh-Cy4OZQuT"
      }
    },
    {
      "cell_type": "code",
      "source": [
        "text_soal=\"aku adalah seorang kapten dari sebuah tim sepak bola liga 3 liga belgia\"\n",
        "\n",
        "def hitung_karakter(teks):\n",
        "    return len(teks)\n",
        "\n",
        "def hitung_kata(teks):\n",
        "    kata = teks.split()\n",
        "    return len(kata)\n",
        "\n",
        "# Contoh penggunaan\n",
        "jumlah_karakter = hitung_karakter(text_soal)\n",
        "jumlah_kata = hitung_kata(text_soal)\n",
        "\n",
        "print(\"Jumlah karakter :\", jumlah_karakter)\n",
        "print(\"Jumlah kata     :\", jumlah_kata)"
      ],
      "metadata": {
        "colab": {
          "base_uri": "https://localhost:8080/"
        },
        "id": "cnMFghykZR16",
        "outputId": "1bb3c4bb-9787-4374-c696-ffe9bfee831d"
      },
      "execution_count": null,
      "outputs": [
        {
          "output_type": "stream",
          "name": "stdout",
          "text": [
            "Jumlah karakter : 71\n",
            "Jumlah kata     : 13\n"
          ]
        }
      ]
    },
    {
      "cell_type": "markdown",
      "source": [
        "Soal 4"
      ],
      "metadata": {
        "id": "3SPACITbb419"
      }
    },
    {
      "cell_type": "code",
      "source": [
        "import numpy as np\n",
        "\n",
        "array = np.array([1, 5, 2, 9, 7, 3])\n",
        "\n",
        "# Calculate mean, min, and max\n",
        "mean_value = np.mean(array)\n",
        "min_value = np.min(array)\n",
        "max_value = np.max(array)\n",
        "\n",
        "# Print the results\n",
        "print(\"Rata-Rata :\", mean_value)\n",
        "print(\"Minimum   :\", min_value)\n",
        "print(\"Maximal   :\", max_value)"
      ],
      "metadata": {
        "colab": {
          "base_uri": "https://localhost:8080/"
        },
        "id": "bi4MwPaeb7N5",
        "outputId": "4019672e-c56c-436d-fdc2-97e05263278b"
      },
      "execution_count": null,
      "outputs": [
        {
          "output_type": "stream",
          "name": "stdout",
          "text": [
            "Rata-Rata : 4.5\n",
            "Minimum   : 1\n",
            "Maximal   : 9\n"
          ]
        }
      ]
    },
    {
      "cell_type": "markdown",
      "source": [
        "### **Final Project**"
      ],
      "metadata": {
        "id": "uRMMFpfs6aeB"
      }
    },
    {
      "cell_type": "code",
      "source": [
        "def input_data_siswa():\n",
        "    nama = input(\"Masukkan nama siswa: \")\n",
        "    nim = input(\"Masukkan NIM siswa: \")\n",
        "    jurusan = input(\"Masukkan jurusan siswa: \")\n",
        "    nilai = float(input(\"Masukkan nilai siswa: \"))\n",
        "    return {\"nama\": nama, \"nim\": nim, \"jurusan\": jurusan, \"nilai\": nilai}\n",
        "\n",
        "def tampilkan_data_siswa(data_siswa):\n",
        "    if not data_siswa:\n",
        "        print(\"Belum ada data siswa yang dimasukkan.\")\n",
        "        return\n",
        "\n",
        "    print(\"Data Siswa:\")\n",
        "    for i, siswa in enumerate(data_siswa):\n",
        "        print(f\"{i+1}. Nama: {siswa['nama']}, NIM: {siswa['nim']}, Jurusan: {siswa['jurusan']}, Nilai: {siswa['nilai']}\")\n",
        "\n",
        "def cari_siswa(data_siswa):\n",
        "    nim = input(\"Masukkan NIM siswa yang dicari: \")\n",
        "    for siswa in data_siswa:\n",
        "        if siswa['nim'] == nim:\n",
        "            print(f\"Nama: {siswa['nama']}, Jurusan: {siswa['jurusan']}, Nilai: {siswa['nilai']}\")\n",
        "            return\n",
        "    print(\"Siswa tidak ditemukan.\")\n",
        "\n",
        "def hitung_rata_rata_nilai(data_siswa):\n",
        "    if not data_siswa:\n",
        "        print(\"Belum ada data siswa yang dimasukkan.\")\n",
        "        return 0\n",
        "    total_nilai = sum(siswa['nilai'] for siswa in data_siswa)\n",
        "    rata_rata = total_nilai / len(data_siswa)\n",
        "    print(f\"Rata-rata nilai siswa: {rata_rata}\")\n",
        "    return rata_rata\n",
        "\n",
        "data_siswa = []\n",
        "\n",
        "while True:\n",
        "    print(\"\\nMenu:\")\n",
        "    print(\"1. Tambah data siswa\")\n",
        "    print(\"2. Tampilkan data siswa\")\n",
        "    print(\"3. Cari siswa berdasarkan NIM\")\n",
        "    print(\"4. Hitung rata-rata nilai\")\n",
        "    print(\"5. Keluar\")\n",
        "\n",
        "    pilihan = input(\"Masukkan pilihan Anda: \")\n",
        "\n",
        "    if pilihan == \"1\":\n",
        "        data_siswa.append(input_data_siswa())\n",
        "    elif pilihan == \"2\":\n",
        "        tampilkan_data_siswa(data_siswa)\n",
        "    elif pilihan == \"3\":\n",
        "        cari_siswa(data_siswa)\n",
        "    elif pilihan == \"4\":\n",
        "        hitung_rata_rata_nilai(data_siswa)\n",
        "    elif pilihan == \"5\":\n",
        "        break\n",
        "    else:\n",
        "        print(\"Pilihan tidak valid.\")"
      ],
      "metadata": {
        "id": "alZ0uo9B6xKh",
        "colab": {
          "base_uri": "https://localhost:8080/"
        },
        "outputId": "5f92fdb7-a40a-46f1-d618-e54bcfd0fd3f"
      },
      "execution_count": null,
      "outputs": [
        {
          "name": "stdout",
          "output_type": "stream",
          "text": [
            "\n",
            "Menu:\n",
            "1. Tambah data siswa\n",
            "2. Tampilkan data siswa\n",
            "3. Cari siswa berdasarkan NIM\n",
            "4. Hitung rata-rata nilai\n",
            "5. Keluar\n",
            "Masukkan pilihan Anda: 2\n",
            "Belum ada data siswa yang dimasukkan.\n",
            "\n",
            "Menu:\n",
            "1. Tambah data siswa\n",
            "2. Tampilkan data siswa\n",
            "3. Cari siswa berdasarkan NIM\n",
            "4. Hitung rata-rata nilai\n",
            "5. Keluar\n",
            "Masukkan pilihan Anda: 1\n",
            "Masukkan nama siswa: Ahmad Nur Robbani Lathif\n",
            "Masukkan NIM siswa: 3420220012\n",
            "Masukkan jurusan siswa: Teknik Informatika\n",
            "Masukkan nilai siswa: 90\n",
            "\n",
            "Menu:\n",
            "1. Tambah data siswa\n",
            "2. Tampilkan data siswa\n",
            "3. Cari siswa berdasarkan NIM\n",
            "4. Hitung rata-rata nilai\n",
            "5. Keluar\n",
            "Masukkan pilihan Anda: 3\n",
            "Masukkan NIM siswa yang dicari: 3420220012\n",
            "Nama: Ahmad Nur Robbani Lathif, Jurusan: Teknik Informatika, Nilai: 90.0\n",
            "\n",
            "Menu:\n",
            "1. Tambah data siswa\n",
            "2. Tampilkan data siswa\n",
            "3. Cari siswa berdasarkan NIM\n",
            "4. Hitung rata-rata nilai\n",
            "5. Keluar\n",
            "Masukkan pilihan Anda: 1\n",
            "Masukkan nama siswa: Akbar Sandi Nugraha\n",
            "Masukkan NIM siswa: 3420220009\n",
            "Masukkan jurusan siswa: Teknik Informatika\n",
            "Masukkan nilai siswa: 85\n",
            "\n",
            "Menu:\n",
            "1. Tambah data siswa\n",
            "2. Tampilkan data siswa\n",
            "3. Cari siswa berdasarkan NIM\n",
            "4. Hitung rata-rata nilai\n",
            "5. Keluar\n",
            "Masukkan pilihan Anda: 1\n",
            "Masukkan nama siswa: Muhammad Farrel Ardan\n",
            "Masukkan NIM siswa: 3420220010\n",
            "Masukkan jurusan siswa: Teknik Informatika\n",
            "Masukkan nilai siswa: 85\n",
            "\n",
            "Menu:\n",
            "1. Tambah data siswa\n",
            "2. Tampilkan data siswa\n",
            "3. Cari siswa berdasarkan NIM\n",
            "4. Hitung rata-rata nilai\n",
            "5. Keluar\n",
            "Masukkan pilihan Anda: 1\n",
            "Masukkan nama siswa: Achmad Jayadi\n",
            "Masukkan NIM siswa: 3420220020\n",
            "Masukkan jurusan siswa: Teknik Informatika\n",
            "Masukkan nilai siswa: 84\n",
            "\n",
            "Menu:\n",
            "1. Tambah data siswa\n",
            "2. Tampilkan data siswa\n",
            "3. Cari siswa berdasarkan NIM\n",
            "4. Hitung rata-rata nilai\n",
            "5. Keluar\n",
            "Masukkan pilihan Anda: 1\n",
            "Masukkan nama siswa: Muhamad Arjuna Wicaksono\n",
            "Masukkan NIM siswa: 3420220016\n",
            "Masukkan jurusan siswa: Teknik Informatika\n",
            "Masukkan nilai siswa: 84\n",
            "\n",
            "Menu:\n",
            "1. Tambah data siswa\n",
            "2. Tampilkan data siswa\n",
            "3. Cari siswa berdasarkan NIM\n",
            "4. Hitung rata-rata nilai\n",
            "5. Keluar\n",
            "Masukkan pilihan Anda: Hafid Maulana Rahman\n",
            "Pilihan tidak valid.\n",
            "\n",
            "Menu:\n",
            "1. Tambah data siswa\n",
            "2. Tampilkan data siswa\n",
            "3. Cari siswa berdasarkan NIM\n",
            "4. Hitung rata-rata nilai\n",
            "5. Keluar\n",
            "Masukkan pilihan Anda: 1\n",
            "Masukkan nama siswa: Hafid Maulana Rahman\n",
            "Masukkan NIM siswa: 3420220006\n",
            "Masukkan jurusan siswa: Teknik Informatika\n",
            "Masukkan nilai siswa: 95\n",
            "\n",
            "Menu:\n",
            "1. Tambah data siswa\n",
            "2. Tampilkan data siswa\n",
            "3. Cari siswa berdasarkan NIM\n",
            "4. Hitung rata-rata nilai\n",
            "5. Keluar\n",
            "Masukkan pilihan Anda: 1\n",
            "Masukkan nama siswa: Ezza Sulthany Fahman\n",
            "Masukkan NIM siswa: 3420237034\n",
            "Masukkan jurusan siswa: Teknik Informatika\n",
            "Masukkan nilai siswa: 97\n",
            "\n",
            "Menu:\n",
            "1. Tambah data siswa\n",
            "2. Tampilkan data siswa\n",
            "3. Cari siswa berdasarkan NIM\n",
            "4. Hitung rata-rata nilai\n",
            "5. Keluar\n",
            "Masukkan pilihan Anda: 2\n",
            "Data Siswa:\n",
            "1. Nama: Ahmad Nur Robbani Lathif, NIM: 3420220012, Jurusan: Teknik Informatika, Nilai: 90.0\n",
            "2. Nama: Akbar Sandi Nugraha, NIM: 3420220009, Jurusan: Teknik Informatika, Nilai: 85.0\n",
            "3. Nama: Muhammad Farrel Ardan, NIM: 3420220010, Jurusan: Teknik Informatika, Nilai: 85.0\n",
            "4. Nama: Achmad Jayadi, NIM: 3420220020, Jurusan: Teknik Informatika, Nilai: 84.0\n",
            "5. Nama: Muhamad Arjuna Wicaksono, NIM: 3420220016, Jurusan: Teknik Informatika, Nilai: 84.0\n",
            "6. Nama: Hafid Maulana Rahman, NIM: 3420220006, Jurusan: Teknik Informatika, Nilai: 95.0\n",
            "7. Nama: Ezza Sulthany Fahman, NIM: 3420237034, Jurusan: Teknik Informatika, Nilai: 97.0\n",
            "\n",
            "Menu:\n",
            "1. Tambah data siswa\n",
            "2. Tampilkan data siswa\n",
            "3. Cari siswa berdasarkan NIM\n",
            "4. Hitung rata-rata nilai\n",
            "5. Keluar\n",
            "Masukkan pilihan Anda: 4\n",
            "Rata-rata nilai siswa: 88.57142857142857\n",
            "\n",
            "Menu:\n",
            "1. Tambah data siswa\n",
            "2. Tampilkan data siswa\n",
            "3. Cari siswa berdasarkan NIM\n",
            "4. Hitung rata-rata nilai\n",
            "5. Keluar\n",
            "Masukkan pilihan Anda: 5\n"
          ]
        }
      ]
    }
  ]
}